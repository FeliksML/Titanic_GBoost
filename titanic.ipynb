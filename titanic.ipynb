{
 "cells": [
  {
   "metadata": {},
   "cell_type": "markdown",
   "source": [
    "# Titanic\n",
    "## Predict survival on the Titanic using Gradient Boost\n"
   ],
   "id": "2e63d4d6e38bcb17"
  },
  {
   "metadata": {},
   "cell_type": "markdown",
   "source": "# Load data into Pandas DataFrame",
   "id": "a78c9950875aee08"
  },
  {
   "metadata": {
    "ExecuteTime": {
     "end_time": "2024-07-17T20:54:57.823573Z",
     "start_time": "2024-07-17T20:54:57.815754Z"
    }
   },
   "cell_type": "code",
   "source": [
    "import pandas as pd\n",
    "\n",
    "# Read into DataFrames\n",
    "train = pd.read_csv(\"titanic/train.csv\")\n",
    "test = pd.read_csv(\"titanic/test.csv\")\n",
    "\n",
    "# At first lets check the train DataFrame\n",
    "test"
   ],
   "id": "54f37c105415d0a2",
   "outputs": [
    {
     "data": {
      "text/plain": [
       "     PassengerId  Pclass                                          Name  \\\n",
       "0            892       3                              Kelly, Mr. James   \n",
       "1            893       3              Wilkes, Mrs. James (Ellen Needs)   \n",
       "2            894       2                     Myles, Mr. Thomas Francis   \n",
       "3            895       3                              Wirz, Mr. Albert   \n",
       "4            896       3  Hirvonen, Mrs. Alexander (Helga E Lindqvist)   \n",
       "..           ...     ...                                           ...   \n",
       "413         1305       3                            Spector, Mr. Woolf   \n",
       "414         1306       1                  Oliva y Ocana, Dona. Fermina   \n",
       "415         1307       3                  Saether, Mr. Simon Sivertsen   \n",
       "416         1308       3                           Ware, Mr. Frederick   \n",
       "417         1309       3                      Peter, Master. Michael J   \n",
       "\n",
       "        Sex   Age  SibSp  Parch              Ticket      Fare Cabin Embarked  \n",
       "0      male  34.5      0      0              330911    7.8292   NaN        Q  \n",
       "1    female  47.0      1      0              363272    7.0000   NaN        S  \n",
       "2      male  62.0      0      0              240276    9.6875   NaN        Q  \n",
       "3      male  27.0      0      0              315154    8.6625   NaN        S  \n",
       "4    female  22.0      1      1             3101298   12.2875   NaN        S  \n",
       "..      ...   ...    ...    ...                 ...       ...   ...      ...  \n",
       "413    male   NaN      0      0           A.5. 3236    8.0500   NaN        S  \n",
       "414  female  39.0      0      0            PC 17758  108.9000  C105        C  \n",
       "415    male  38.5      0      0  SOTON/O.Q. 3101262    7.2500   NaN        S  \n",
       "416    male   NaN      0      0              359309    8.0500   NaN        S  \n",
       "417    male   NaN      1      1                2668   22.3583   NaN        C  \n",
       "\n",
       "[418 rows x 11 columns]"
      ],
      "text/html": [
       "<div>\n",
       "<style scoped>\n",
       "    .dataframe tbody tr th:only-of-type {\n",
       "        vertical-align: middle;\n",
       "    }\n",
       "\n",
       "    .dataframe tbody tr th {\n",
       "        vertical-align: top;\n",
       "    }\n",
       "\n",
       "    .dataframe thead th {\n",
       "        text-align: right;\n",
       "    }\n",
       "</style>\n",
       "<table border=\"1\" class=\"dataframe\">\n",
       "  <thead>\n",
       "    <tr style=\"text-align: right;\">\n",
       "      <th></th>\n",
       "      <th>PassengerId</th>\n",
       "      <th>Pclass</th>\n",
       "      <th>Name</th>\n",
       "      <th>Sex</th>\n",
       "      <th>Age</th>\n",
       "      <th>SibSp</th>\n",
       "      <th>Parch</th>\n",
       "      <th>Ticket</th>\n",
       "      <th>Fare</th>\n",
       "      <th>Cabin</th>\n",
       "      <th>Embarked</th>\n",
       "    </tr>\n",
       "  </thead>\n",
       "  <tbody>\n",
       "    <tr>\n",
       "      <th>0</th>\n",
       "      <td>892</td>\n",
       "      <td>3</td>\n",
       "      <td>Kelly, Mr. James</td>\n",
       "      <td>male</td>\n",
       "      <td>34.5</td>\n",
       "      <td>0</td>\n",
       "      <td>0</td>\n",
       "      <td>330911</td>\n",
       "      <td>7.8292</td>\n",
       "      <td>NaN</td>\n",
       "      <td>Q</td>\n",
       "    </tr>\n",
       "    <tr>\n",
       "      <th>1</th>\n",
       "      <td>893</td>\n",
       "      <td>3</td>\n",
       "      <td>Wilkes, Mrs. James (Ellen Needs)</td>\n",
       "      <td>female</td>\n",
       "      <td>47.0</td>\n",
       "      <td>1</td>\n",
       "      <td>0</td>\n",
       "      <td>363272</td>\n",
       "      <td>7.0000</td>\n",
       "      <td>NaN</td>\n",
       "      <td>S</td>\n",
       "    </tr>\n",
       "    <tr>\n",
       "      <th>2</th>\n",
       "      <td>894</td>\n",
       "      <td>2</td>\n",
       "      <td>Myles, Mr. Thomas Francis</td>\n",
       "      <td>male</td>\n",
       "      <td>62.0</td>\n",
       "      <td>0</td>\n",
       "      <td>0</td>\n",
       "      <td>240276</td>\n",
       "      <td>9.6875</td>\n",
       "      <td>NaN</td>\n",
       "      <td>Q</td>\n",
       "    </tr>\n",
       "    <tr>\n",
       "      <th>3</th>\n",
       "      <td>895</td>\n",
       "      <td>3</td>\n",
       "      <td>Wirz, Mr. Albert</td>\n",
       "      <td>male</td>\n",
       "      <td>27.0</td>\n",
       "      <td>0</td>\n",
       "      <td>0</td>\n",
       "      <td>315154</td>\n",
       "      <td>8.6625</td>\n",
       "      <td>NaN</td>\n",
       "      <td>S</td>\n",
       "    </tr>\n",
       "    <tr>\n",
       "      <th>4</th>\n",
       "      <td>896</td>\n",
       "      <td>3</td>\n",
       "      <td>Hirvonen, Mrs. Alexander (Helga E Lindqvist)</td>\n",
       "      <td>female</td>\n",
       "      <td>22.0</td>\n",
       "      <td>1</td>\n",
       "      <td>1</td>\n",
       "      <td>3101298</td>\n",
       "      <td>12.2875</td>\n",
       "      <td>NaN</td>\n",
       "      <td>S</td>\n",
       "    </tr>\n",
       "    <tr>\n",
       "      <th>...</th>\n",
       "      <td>...</td>\n",
       "      <td>...</td>\n",
       "      <td>...</td>\n",
       "      <td>...</td>\n",
       "      <td>...</td>\n",
       "      <td>...</td>\n",
       "      <td>...</td>\n",
       "      <td>...</td>\n",
       "      <td>...</td>\n",
       "      <td>...</td>\n",
       "      <td>...</td>\n",
       "    </tr>\n",
       "    <tr>\n",
       "      <th>413</th>\n",
       "      <td>1305</td>\n",
       "      <td>3</td>\n",
       "      <td>Spector, Mr. Woolf</td>\n",
       "      <td>male</td>\n",
       "      <td>NaN</td>\n",
       "      <td>0</td>\n",
       "      <td>0</td>\n",
       "      <td>A.5. 3236</td>\n",
       "      <td>8.0500</td>\n",
       "      <td>NaN</td>\n",
       "      <td>S</td>\n",
       "    </tr>\n",
       "    <tr>\n",
       "      <th>414</th>\n",
       "      <td>1306</td>\n",
       "      <td>1</td>\n",
       "      <td>Oliva y Ocana, Dona. Fermina</td>\n",
       "      <td>female</td>\n",
       "      <td>39.0</td>\n",
       "      <td>0</td>\n",
       "      <td>0</td>\n",
       "      <td>PC 17758</td>\n",
       "      <td>108.9000</td>\n",
       "      <td>C105</td>\n",
       "      <td>C</td>\n",
       "    </tr>\n",
       "    <tr>\n",
       "      <th>415</th>\n",
       "      <td>1307</td>\n",
       "      <td>3</td>\n",
       "      <td>Saether, Mr. Simon Sivertsen</td>\n",
       "      <td>male</td>\n",
       "      <td>38.5</td>\n",
       "      <td>0</td>\n",
       "      <td>0</td>\n",
       "      <td>SOTON/O.Q. 3101262</td>\n",
       "      <td>7.2500</td>\n",
       "      <td>NaN</td>\n",
       "      <td>S</td>\n",
       "    </tr>\n",
       "    <tr>\n",
       "      <th>416</th>\n",
       "      <td>1308</td>\n",
       "      <td>3</td>\n",
       "      <td>Ware, Mr. Frederick</td>\n",
       "      <td>male</td>\n",
       "      <td>NaN</td>\n",
       "      <td>0</td>\n",
       "      <td>0</td>\n",
       "      <td>359309</td>\n",
       "      <td>8.0500</td>\n",
       "      <td>NaN</td>\n",
       "      <td>S</td>\n",
       "    </tr>\n",
       "    <tr>\n",
       "      <th>417</th>\n",
       "      <td>1309</td>\n",
       "      <td>3</td>\n",
       "      <td>Peter, Master. Michael J</td>\n",
       "      <td>male</td>\n",
       "      <td>NaN</td>\n",
       "      <td>1</td>\n",
       "      <td>1</td>\n",
       "      <td>2668</td>\n",
       "      <td>22.3583</td>\n",
       "      <td>NaN</td>\n",
       "      <td>C</td>\n",
       "    </tr>\n",
       "  </tbody>\n",
       "</table>\n",
       "<p>418 rows × 11 columns</p>\n",
       "</div>"
      ]
     },
     "execution_count": 18,
     "metadata": {},
     "output_type": "execute_result"
    }
   ],
   "execution_count": 18
  },
  {
   "metadata": {},
   "cell_type": "markdown",
   "source": "# Check for `null` values",
   "id": "a00de73e24516d85"
  },
  {
   "metadata": {
    "ExecuteTime": {
     "end_time": "2024-07-17T20:54:57.863322Z",
     "start_time": "2024-07-17T20:54:57.860295Z"
    }
   },
   "cell_type": "code",
   "source": "train.isnull().sum()",
   "id": "8e9c469399aa862d",
   "outputs": [
    {
     "data": {
      "text/plain": [
       "PassengerId      0\n",
       "Survived         0\n",
       "Pclass           0\n",
       "Name             0\n",
       "Sex              0\n",
       "Age            177\n",
       "SibSp            0\n",
       "Parch            0\n",
       "Ticket           0\n",
       "Fare             0\n",
       "Cabin          687\n",
       "Embarked         2\n",
       "dtype: int64"
      ]
     },
     "execution_count": 19,
     "metadata": {},
     "output_type": "execute_result"
    }
   ],
   "execution_count": 19
  },
  {
   "metadata": {},
   "cell_type": "markdown",
   "source": "# Null values found in `Age: 177`, `Cabin: 687`, `Embarked: 2`",
   "id": "6463f7af2e6fd81"
  },
  {
   "metadata": {},
   "cell_type": "markdown",
   "source": "# Check data types",
   "id": "dd43453f18c6702"
  },
  {
   "metadata": {
    "ExecuteTime": {
     "end_time": "2024-07-17T20:54:57.871769Z",
     "start_time": "2024-07-17T20:54:57.868051Z"
    }
   },
   "cell_type": "code",
   "source": "train.info()",
   "id": "cd4bced10236f509",
   "outputs": [
    {
     "name": "stdout",
     "output_type": "stream",
     "text": [
      "<class 'pandas.core.frame.DataFrame'>\n",
      "RangeIndex: 891 entries, 0 to 890\n",
      "Data columns (total 12 columns):\n",
      " #   Column       Non-Null Count  Dtype  \n",
      "---  ------       --------------  -----  \n",
      " 0   PassengerId  891 non-null    int64  \n",
      " 1   Survived     891 non-null    int64  \n",
      " 2   Pclass       891 non-null    int64  \n",
      " 3   Name         891 non-null    object \n",
      " 4   Sex          891 non-null    object \n",
      " 5   Age          714 non-null    float64\n",
      " 6   SibSp        891 non-null    int64  \n",
      " 7   Parch        891 non-null    int64  \n",
      " 8   Ticket       891 non-null    object \n",
      " 9   Fare         891 non-null    float64\n",
      " 10  Cabin        204 non-null    object \n",
      " 11  Embarked     889 non-null    object \n",
      "dtypes: float64(2), int64(5), object(5)\n",
      "memory usage: 83.7+ KB\n"
     ]
    }
   ],
   "execution_count": 20
  },
  {
   "metadata": {},
   "cell_type": "markdown",
   "source": "# Check distribution of `Age` before imputing null values",
   "id": "a83f8bd3ba775f3c"
  },
  {
   "metadata": {
    "ExecuteTime": {
     "end_time": "2024-07-17T20:54:58.048808Z",
     "start_time": "2024-07-17T20:54:57.872591Z"
    }
   },
   "cell_type": "code",
   "source": [
    "import matplotlib.pyplot as plt\n",
    "import seaborn as sns\n",
    "\n",
    "# Plot a histogram with Age variable\n",
    "plt.figure(figsize=(10, 6))\n",
    "sns.histplot(train[\"Age\"], bins=30, kde=True)\n",
    "plt.title(\"Age distribution\")\n",
    "plt.xlabel('Age')\n",
    "plt.ylabel('Count')\n",
    "plt.show()"
   ],
   "id": "2dbb14d302651520",
   "outputs": [
    {
     "data": {
      "text/plain": [
       "<Figure size 1000x600 with 1 Axes>"
      ],
      "image/png": "[encoded data removed]"
     },
     "metadata": {},
     "output_type": "display_data"
    }
   ],
   "execution_count": 21
  },
  {
   "metadata": {},
   "cell_type": "markdown",
   "source": [
    "# Impute null values for `Age` variable where distribution is right-skewed\n",
    "\n",
    "### When we get right-skewed distribution of a numerical variable the better practice is use `median` value for imputing missing values. We can't use `mean` value because it will not represent the central tendency of the distribution, because the mean value will come from the right area of distribution.\n",
    "### But for the this time I will use MICE to impute those values because this technique especially good for non-normally distributed  or skewed data."
   ],
   "id": "d34b71992be3ee0c"
  },
  {
   "metadata": {
    "ExecuteTime": {
     "end_time": "2024-07-17T20:54:59.628112Z",
     "start_time": "2024-07-17T20:54:58.049534Z"
    }
   },
   "cell_type": "code",
   "source": [
    "import miceforest as mf\n",
    "\n",
    "# Prepare Sex columns\n",
    "mapping = {'male': 1, 'female': 0}\n",
    "train[\"Sex\"] = train[\"Sex\"].map(mapping)\n",
    "test[\"Sex\"] = test[\"Sex\"].map(mapping)\n",
    "\n",
    "# Create kernel for train dataset \n",
    "kernel = mf.ImputationKernel(data=train[[\"Age\", \"Survived\", \"Fare\", \"Sex\"]], datasets=1, save_all_iterations=True)\n",
    "\n",
    "# Launch the MICE imputation for train dataset\n",
    "kernel.mice(10)\n",
    "\n",
    "# Kernel for test dataset\n",
    "kernel_test = mf.ImputationKernel(data=test[[\"Age\", \"Fare\", \"Sex\"]], datasets=1, save_all_iterations=True)\n",
    "\n",
    "# Launch the kernel_test\n",
    "kernel_test.mice(10)\n",
    "\n",
    "# Get imputed data for test and train datasets\n",
    "imputed_data_train = kernel.complete_data(0)\n",
    "imputed_data_test = kernel_test.complete_data(0)\n",
    "\n",
    "# Replace old columns with new columns\n",
    "train[[\"Age\", \"Survived\", \"Fare\", \"Sex\"]] = imputed_data_train\n",
    "test[[\"Age\", \"Fare\", \"Sex\"]] = imputed_data_test\n",
    "\n",
    "# Create subplots \n",
    "_ , axes = plt.subplots(nrows=2, ncols=1, figsize=(10, 12))\n",
    "\n",
    "# Plot for train dataset\n",
    "sns.histplot(train['Age'], bins=30, kde=True, ax=axes[0])\n",
    "axes[0].set_title(\"Train Dataset. Imputed Age\")\n",
    "axes[0].set_xlabel(\"Age\")\n",
    "axes[0].set_ylabel(\"Count\")\n",
    "\n",
    "# Plot for test dataset\n",
    "sns.histplot(test['Age'], bins=30, kde=True, ax=axes[1])\n",
    "axes[1].set_title(\"Test Dataset. Imputed Age\")\n",
    "axes[1].set_xlabel(\"Age\")\n",
    "axes[1].set_ylabel(\"Count\")\n",
    "\n",
    "plt.tight_layout()\n",
    "plt.show()"
   ],
   "id": "1c5fb089c1e06f9e",
   "outputs": [
    {
     "data": {
      "text/plain": [
       "<Figure size 1000x1200 with 2 Axes>"
      ],
      "image/png": "[encoded data removed]"
     },
     "metadata": {},
     "output_type": "display_data"
    }
   ],
   "execution_count": 22
  },
  {
   "metadata": {
    "ExecuteTime": {
     "end_time": "2024-07-17T20:54:59.632418Z",
     "start_time": "2024-07-17T20:54:59.629837Z"
    }
   },
   "cell_type": "code",
   "source": "train.isnull().sum()",
   "id": "3d6668ad2043eed8",
   "outputs": [
    {
     "data": {
      "text/plain": [
       "PassengerId      0\n",
       "Survived         0\n",
       "Pclass           0\n",
       "Name             0\n",
       "Sex              0\n",
       "Age              0\n",
       "SibSp            0\n",
       "Parch            0\n",
       "Ticket           0\n",
       "Fare             0\n",
       "Cabin          687\n",
       "Embarked         2\n",
       "dtype: int64"
      ]
     },
     "execution_count": 23,
     "metadata": {},
     "output_type": "execute_result"
    }
   ],
   "execution_count": 23
  },
  {
   "metadata": {},
   "cell_type": "markdown",
   "source": [
    "# Cabin \n",
    "### Which passengers had assigned cabins and which did not?  "
   ],
   "id": "204f52009349d25"
  },
  {
   "metadata": {
    "ExecuteTime": {
     "end_time": "2024-07-17T20:54:59.751608Z",
     "start_time": "2024-07-17T20:54:59.632986Z"
    }
   },
   "cell_type": "code",
   "source": [
    "train['Cabin'].fillna('Missing', inplace=True)\n",
    "cabin = train['Cabin'].apply(lambda  x: 'Has Cabin' if x != 'Missing' else 'Missing')\n",
    "contingency_table = pd.crosstab(train['Pclass'], cabin)\n",
    "_ , axes = plt.subplots(nrows=2, ncols=1, figsize=(10, 6))\n",
    "\n",
    "# Stacked Bar Plot\n",
    "contingency_table.plot(kind='bar', stacked=True, colormap='viridis', ax=axes[0])\n",
    "axes[0].set_title('Stacked Bar Plot of Pclass vs Cabin')\n",
    "axes[0].set_xlabel('Pclass')\n",
    "axes[0].set_ylabel('Count')\n",
    "\n",
    "# Grouped Bar Plot\n",
    "contingency_table.plot(kind='bar', colormap='viridis', ax=axes[1])\n",
    "axes[1].set_title('Grouped Bar Plot of Pclass vs Cabin')\n",
    "axes[1].set_xlabel('Pclass')\n",
    "axes[1].set_ylabel('Count')\n",
    "\n",
    "plt.tight_layout()\n",
    "plt.show()\n"
   ],
   "id": "8f502d95203715b8",
   "outputs": [
    {
     "name": "stderr",
     "output_type": "stream",
     "text": [
      "/var/folders/2f/8bjntx8d5m7f9brr2h6z4vvr0000gn/T/ipykernel_66844/2901812138.py:1: FutureWarning: A value is trying to be set on a copy of a DataFrame or Series through chained assignment using an inplace method.\n",
      "The behavior will change in pandas 3.0. This inplace method will never work because the intermediate object on which we are setting values always behaves as a copy.\n",
      "\n",
      "For example, when doing 'df[col].method(value, inplace=True)', try using 'df.method({col: value}, inplace=True)' or df[col] = df[col].method(value) instead, to perform the operation inplace on the original object.\n",
      "\n",
      "\n",
      "  train['Cabin'].fillna('Missing', inplace=True)\n"
     ]
    },
    {
     "data": {
      "text/plain": [
       "<Figure size 1000x600 with 2 Axes>"
      ],
      "image/png": "[encoded data removed]"
     },
     "metadata": {},
     "output_type": "display_data"
    }
   ],
   "execution_count": 24
  },
  {
   "metadata": {},
   "cell_type": "markdown",
   "source": "# There is a lot of missing values in Third and Second class tickets so it's better to just drop the `Cabin` column.\n",
   "id": "1569678dbff04079"
  },
  {
   "metadata": {
    "ExecuteTime": {
     "end_time": "2024-07-17T20:54:59.754501Z",
     "start_time": "2024-07-17T20:54:59.752204Z"
    }
   },
   "cell_type": "code",
   "source": [
    "train.drop(columns=['Cabin'], inplace=True)\n",
    "test.drop(columns=['Cabin'], inplace=True)"
   ],
   "id": "e86ee56beef281d0",
   "outputs": [],
   "execution_count": 25
  },
  {
   "metadata": {},
   "cell_type": "markdown",
   "source": "# Impute `Embarked` variable with mod value",
   "id": "9498b26c6e756a53"
  },
  {
   "metadata": {
    "ExecuteTime": {
     "end_time": "2024-07-17T20:54:59.757543Z",
     "start_time": "2024-07-17T20:54:59.754950Z"
    }
   },
   "cell_type": "code",
   "source": [
    "# Impute with mod value\n",
    "train['Embarked'].fillna(train['Embarked'].mode()[0], inplace=True)\n",
    "test['Embarked'].fillna(test['Embarked'].mode()[0], inplace=True)"
   ],
   "id": "e21109a9b48bdb94",
   "outputs": [
    {
     "name": "stderr",
     "output_type": "stream",
     "text": [
      "/var/folders/2f/8bjntx8d5m7f9brr2h6z4vvr0000gn/T/ipykernel_66844/1226287962.py:2: FutureWarning: A value is trying to be set on a copy of a DataFrame or Series through chained assignment using an inplace method.\n",
      "The behavior will change in pandas 3.0. This inplace method will never work because the intermediate object on which we are setting values always behaves as a copy.\n",
      "\n",
      "For example, when doing 'df[col].method(value, inplace=True)', try using 'df.method({col: value}, inplace=True)' or df[col] = df[col].method(value) instead, to perform the operation inplace on the original object.\n",
      "\n",
      "\n",
      "  train['Embarked'].fillna(train['Embarked'].mode()[0], inplace=True)\n",
      "/var/folders/2f/8bjntx8d5m7f9brr2h6z4vvr0000gn/T/ipykernel_66844/1226287962.py:3: FutureWarning: A value is trying to be set on a copy of a DataFrame or Series through chained assignment using an inplace method.\n",
      "The behavior will change in pandas 3.0. This inplace method will never work because the intermediate object on which we are setting values always behaves as a copy.\n",
      "\n",
      "For example, when doing 'df[col].method(value, inplace=True)', try using 'df.method({col: value}, inplace=True)' or df[col] = df[col].method(value) instead, to perform the operation inplace on the original object.\n",
      "\n",
      "\n",
      "  test['Embarked'].fillna(test['Embarked'].mode()[0], inplace=True)\n"
     ]
    }
   ],
   "execution_count": 26
  },
  {
   "metadata": {},
   "cell_type": "markdown",
   "source": "# Drop `PassengerId`",
   "id": "2048be17b6374b35"
  },
  {
   "metadata": {
    "ExecuteTime": {
     "end_time": "2024-07-17T20:54:59.760457Z",
     "start_time": "2024-07-17T20:54:59.758353Z"
    }
   },
   "cell_type": "code",
   "source": [
    "train.drop(columns=['PassengerId'], inplace=True)\n",
    "test.drop(columns=['PassengerId'], inplace=True)"
   ],
   "id": "7553de547de858be",
   "outputs": [],
   "execution_count": 27
  },
  {
   "metadata": {},
   "cell_type": "markdown",
   "source": "# Tokenize `Name` and `Ticket`\n",
   "id": "36c9646b9c0474eb"
  },
  {
   "metadata": {
    "ExecuteTime": {
     "end_time": "2024-07-17T20:54:59.765804Z",
     "start_time": "2024-07-17T20:54:59.760942Z"
    }
   },
   "cell_type": "code",
   "source": [
    "def tokenize(df : pd.DataFrame):\n",
    "    \"\"\"Tokenizing the columns\"\"\"\n",
    "    df = df.copy()\n",
    "    \n",
    "    def name(x : str):\n",
    "        \"\"\"Splitting the string using space character then removing non-alphabetic characters\"\"\"\n",
    "        return \"\".join([v.strip(\",()[].\\\"'\") for v in x.split(\" \")])\n",
    "    \n",
    "    def ticket_number(x : str):\n",
    "        \"\"\"Splitting the string by space and then taking the last element\"\"\"\n",
    "        return x.split(\" \")[-1]\n",
    "    \n",
    "    def ticket_item(x : str):\n",
    "        \"\"\"Splitting string then if length 2D array is 1 it means there's no item otherwise we take return all items\"\"\"\n",
    "        item = x.split(\" \")\n",
    "        if len(item) == 1:\n",
    "            return \"NONE\"\n",
    "        return \" \".join(item[0:-1])\n",
    "    \n",
    "    df[\"Name\"] = df[\"Name\"].apply(name)\n",
    "    df[\"Ticket_number\"] = df[\"Ticket\"].apply(ticket_number)\n",
    "    df[\"Ticket_item\"] = df[\"Ticket\"].apply(ticket_item)\n",
    "    return df\n",
    "\n",
    "preprocessed_train = tokenize(train)\n",
    "preprocessed_test = tokenize(test)"
   ],
   "id": "38ffc2e48ca37304",
   "outputs": [],
   "execution_count": 28
  },
  {
   "metadata": {},
   "cell_type": "markdown",
   "source": "# Create input features list",
   "id": "2418009f8d339848"
  },
  {
   "metadata": {
    "ExecuteTime": {
     "end_time": "2024-07-17T20:54:59.769975Z",
     "start_time": "2024-07-17T20:54:59.767968Z"
    }
   },
   "cell_type": "code",
   "source": [
    "input_features = list(preprocessed_train.columns)\n",
    "input_features.remove(\"Ticket\")\n",
    "input_features.remove(\"Survived\")\n",
    "input_features"
   ],
   "id": "9ce6ed642888ec35",
   "outputs": [
    {
     "data": {
      "text/plain": [
       "['Pclass',\n",
       " 'Name',\n",
       " 'Sex',\n",
       " 'Age',\n",
       " 'SibSp',\n",
       " 'Parch',\n",
       " 'Fare',\n",
       " 'Embarked',\n",
       " 'Ticket_number',\n",
       " 'Ticket_item']"
      ]
     },
     "execution_count": 29,
     "metadata": {},
     "output_type": "execute_result"
    }
   ],
   "execution_count": 29
  },
  {
   "metadata": {},
   "cell_type": "markdown",
   "source": "# Convert Pandas DataFrame to TensorFlow Dataset\n",
   "id": "4e048a8afc1ad36e"
  },
  {
   "metadata": {
    "ExecuteTime": {
     "end_time": "2024-07-17T20:54:59.772343Z",
     "start_time": "2024-07-17T20:54:59.770455Z"
    }
   },
   "cell_type": "code",
   "source": [
    "import tensorflow as tf\n",
    "import tensorflow_decision_forests as tfdf\n",
    "\n",
    "def tokenize_name(features, labels = None):\n",
    "    features[\"Name\"] = tf.strings.split(features[\"Name\"])\n",
    "    return features, labels"
   ],
   "id": "b15fb9078d10b172",
   "outputs": [],
   "execution_count": 30
  },
  {
   "metadata": {},
   "cell_type": "markdown",
   "source": "# Convert Pandas DataFrame into tensorflow dataset",
   "id": "62ebf59c5ee9bc24"
  },
  {
   "metadata": {
    "ExecuteTime": {
     "end_time": "2024-07-17T20:54:59.807923Z",
     "start_time": "2024-07-17T20:54:59.773195Z"
    }
   },
   "cell_type": "code",
   "source": [
    "tf_train = tfdf.keras.pd_dataframe_to_tf_dataset(preprocessed_train, label=\"Survived\").map(tokenize_name)\n",
    "tf_test = tfdf.keras.pd_dataframe_to_tf_dataset(preprocessed_test).map(tokenize_name)"
   ],
   "id": "170f2842f05b5c8b",
   "outputs": [],
   "execution_count": 31
  },
  {
   "metadata": {},
   "cell_type": "markdown",
   "source": "# Train Gradient Boost model with default parameters",
   "id": "d629f991c71e0321"
  },
  {
   "metadata": {
    "ExecuteTime": {
     "end_time": "2024-07-17T20:55:00.107566Z",
     "start_time": "2024-07-17T20:54:59.808545Z"
    }
   },
   "cell_type": "code",
   "source": [
    "model = tfdf.keras.GradientBoostedTreesModel(\n",
    "    verbose=0,\n",
    "    features=[tfdf.keras.FeatureUsage(n) for n in input_features],\n",
    "    exclude_non_specified_features=True,\n",
    "    random_seed=9\n",
    ")\n",
    "model.fit(tf_train)\n",
    "\n",
    "self_eval = model.make_inspector().evaluation()\n",
    "print(f\"Accuracy={self_eval.accuracy}, Loss={self_eval.loss}\")"
   ],
   "id": "9263ad6eb668873",
   "outputs": [
    {
     "name": "stderr",
     "output_type": "stream",
     "text": [
      "[WARNING 24-07-17 13:54:59.8129 PDT gradient_boosted_trees.cc:1840] \"goss_alpha\" set but \"sampling_method\" not equal to \"GOSS\".\n",
      "[WARNING 24-07-17 13:54:59.8129 PDT gradient_boosted_trees.cc:1851] \"goss_beta\" set but \"sampling_method\" not equal to \"GOSS\".\n",
      "[WARNING 24-07-17 13:54:59.8129 PDT gradient_boosted_trees.cc:1865] \"selective_gradient_boosting_ratio\" set but \"sampling_method\" not equal to \"SELGB\".\n"
     ]
    },
    {
     "name": "stdout",
     "output_type": "stream",
     "text": [
      "Accuracy=0.8736842274665833, Loss=0.7563692927360535\n"
     ]
    },
    {
     "name": "stderr",
     "output_type": "stream",
     "text": [
      "[INFO 24-07-17 13:55:00.0156 PDT kernel.cc:1233] Loading model from path /var/folders/2f/8bjntx8d5m7f9brr2h6z4vvr0000gn/T/tmp_fr6nh65/model/ with prefix 54f48dec07724a83\n",
      "[INFO 24-07-17 13:55:00.0169 PDT abstract_model.cc:1344] Engine \"GradientBoostedTreesQuickScorerExtended\" built\n",
      "[INFO 24-07-17 13:55:00.0169 PDT kernel.cc:1061] Use fast generic engine\n"
     ]
    }
   ],
   "execution_count": 32
  },
  {
   "metadata": {
    "ExecuteTime": {
     "end_time": "2024-07-17T20:55:00.111528Z",
     "start_time": "2024-07-17T20:55:00.108159Z"
    }
   },
   "cell_type": "code",
   "source": "model.summary()",
   "id": "ff1235d76aa99659",
   "outputs": [
    {
     "name": "stdout",
     "output_type": "stream",
     "text": [
      "Model: \"gradient_boosted_trees_model_1\"\n",
      "_________________________________________________________________\n",
      " Layer (type)                Output Shape              Param #   \n",
      "=================================================================\n",
      "=================================================================\n",
      "Total params: 1 (1.00 Byte)\n",
      "Trainable params: 0 (0.00 Byte)\n",
      "Non-trainable params: 1 (1.00 Byte)\n",
      "_________________________________________________________________\n",
      "Type: \"GRADIENT_BOOSTED_TREES\"\n",
      "Task: CLASSIFICATION\n",
      "Label: \"__LABEL\"\n",
      "\n",
      "Input Features (10):\n",
      "\tAge\n",
      "\tEmbarked\n",
      "\tFare\n",
      "\tName\n",
      "\tParch\n",
      "\tPclass\n",
      "\tSex\n",
      "\tSibSp\n",
      "\tTicket_item\n",
      "\tTicket_number\n",
      "\n",
      "No weights\n",
      "\n",
      "Variable Importance: INV_MEAN_MIN_DEPTH:\n",
      "    1.           \"Sex\"  1.000000 ################\n",
      "    2.          \"Fare\"  0.264867 #\n",
      "    3.        \"Pclass\"  0.257798 #\n",
      "    4.           \"Age\"  0.256882 #\n",
      "    5.   \"Ticket_item\"  0.212199 \n",
      "    6. \"Ticket_number\"  0.196407 \n",
      "    7.      \"Embarked\"  0.189933 \n",
      "    8.         \"SibSp\"  0.187050 \n",
      "    9.         \"Parch\"  0.179341 \n",
      "\n",
      "Variable Importance: NUM_AS_ROOT:\n",
      "    1. \"Sex\" 23.000000 \n",
      "\n",
      "Variable Importance: NUM_NODES:\n",
      "    1.          \"Fare\" 147.000000 ################\n",
      "    2.           \"Age\" 135.000000 ##############\n",
      "    3.   \"Ticket_item\" 71.000000 ######\n",
      "    4. \"Ticket_number\" 40.000000 ###\n",
      "    5.        \"Pclass\" 36.000000 ##\n",
      "    6.         \"SibSp\" 27.000000 #\n",
      "    7.      \"Embarked\" 23.000000 \n",
      "    8.           \"Sex\" 23.000000 \n",
      "    9.         \"Parch\" 15.000000 \n",
      "\n",
      "Variable Importance: SUM_SCORE:\n",
      "    1.           \"Sex\" 311.555337 ################\n",
      "    2.          \"Fare\" 86.186611 ####\n",
      "    3.        \"Pclass\" 70.870206 ###\n",
      "    4.           \"Age\" 69.066433 ###\n",
      "    5.   \"Ticket_item\" 35.276585 #\n",
      "    6.         \"SibSp\" 24.025901 #\n",
      "    7. \"Ticket_number\" 18.710351 \n",
      "    8.      \"Embarked\" 10.070223 \n",
      "    9.         \"Parch\"  3.502883 \n",
      "\n",
      "\n",
      "\n",
      "Loss: BINOMIAL_LOG_LIKELIHOOD\n",
      "Validation loss value: 0.756369\n",
      "Number of trees per iteration: 1\n",
      "Node format: NOT_SET\n",
      "Number of trees: 23\n",
      "Total number of nodes: 1057\n",
      "\n",
      "Number of nodes by tree:\n",
      "Count: 23 Average: 45.9565 StdDev: 6.69509\n",
      "Min: 31 Max: 57 Ignored: 0\n",
      "----------------------------------------------\n",
      "[ 31, 32) 1   4.35%   4.35% ##\n",
      "[ 32, 33) 0   0.00%   4.35%\n",
      "[ 33, 35) 1   4.35%   8.70% ##\n",
      "[ 35, 36) 0   0.00%   8.70%\n",
      "[ 36, 37) 0   0.00%   8.70%\n",
      "[ 37, 39) 0   0.00%   8.70%\n",
      "[ 39, 40) 3  13.04%  21.74% #####\n",
      "[ 40, 41) 0   0.00%  21.74%\n",
      "[ 41, 43) 2   8.70%  30.43% ###\n",
      "[ 43, 44) 2   8.70%  39.13% ###\n",
      "[ 44, 45) 0   0.00%  39.13%\n",
      "[ 45, 47) 1   4.35%  43.48% ##\n",
      "[ 47, 48) 2   8.70%  52.17% ###\n",
      "[ 48, 49) 0   0.00%  52.17%\n",
      "[ 49, 51) 2   8.70%  60.87% ###\n",
      "[ 51, 52) 6  26.09%  86.96% ##########\n",
      "[ 52, 53) 0   0.00%  86.96%\n",
      "[ 53, 55) 1   4.35%  91.30% ##\n",
      "[ 55, 56) 1   4.35%  95.65% ##\n",
      "[ 56, 57] 1   4.35% 100.00% ##\n",
      "\n",
      "Depth by leafs:\n",
      "Count: 540 Average: 4.70556 StdDev: 0.571196\n",
      "Min: 2 Max: 5 Ignored: 0\n",
      "----------------------------------------------\n",
      "[ 2, 3)   5   0.93%   0.93%\n",
      "[ 3, 4)  17   3.15%   4.07%\n",
      "[ 4, 5) 110  20.37%  24.44% ###\n",
      "[ 5, 5] 408  75.56% 100.00% ##########\n",
      "\n",
      "Number of training obs by leaf:\n",
      "Count: 540 Average: 33.9037 StdDev: 63.2432\n",
      "Min: 5 Max: 383 Ignored: 0\n",
      "----------------------------------------------\n",
      "[   5,  23) 382  70.74%  70.74% ##########\n",
      "[  23,  42)  55  10.19%  80.93% #\n",
      "[  42,  61)  28   5.19%  86.11% #\n",
      "[  61,  80)  19   3.52%  89.63%\n",
      "[  80,  99)  19   3.52%  93.15%\n",
      "[  99, 118)   3   0.56%  93.70%\n",
      "[ 118, 137)   6   1.11%  94.81%\n",
      "[ 137, 156)   4   0.74%  95.56%\n",
      "[ 156, 175)   1   0.19%  95.74%\n",
      "[ 175, 194)   1   0.19%  95.93%\n",
      "[ 194, 213)   5   0.93%  96.85%\n",
      "[ 213, 232)   0   0.00%  96.85%\n",
      "[ 232, 251)   0   0.00%  96.85%\n",
      "[ 251, 270)   1   0.19%  97.04%\n",
      "[ 270, 289)   2   0.37%  97.41%\n",
      "[ 289, 308)   4   0.74%  98.15%\n",
      "[ 308, 327)   1   0.19%  98.33%\n",
      "[ 327, 346)   1   0.19%  98.52%\n",
      "[ 346, 365)   3   0.56%  99.07%\n",
      "[ 365, 383]   5   0.93% 100.00%\n",
      "\n",
      "Attribute in nodes:\n",
      "\t147 : Fare [NUMERICAL]\n",
      "\t135 : Age [NUMERICAL]\n",
      "\t71 : Ticket_item [CATEGORICAL]\n",
      "\t40 : Ticket_number [CATEGORICAL]\n",
      "\t36 : Pclass [NUMERICAL]\n",
      "\t27 : SibSp [NUMERICAL]\n",
      "\t23 : Sex [NUMERICAL]\n",
      "\t23 : Embarked [CATEGORICAL]\n",
      "\t15 : Parch [NUMERICAL]\n",
      "\n",
      "Attribute in nodes with depth <= 0:\n",
      "\t23 : Sex [NUMERICAL]\n",
      "\n",
      "Attribute in nodes with depth <= 1:\n",
      "\t23 : Sex [NUMERICAL]\n",
      "\t19 : Pclass [NUMERICAL]\n",
      "\t14 : Age [NUMERICAL]\n",
      "\t8 : Fare [NUMERICAL]\n",
      "\t4 : Ticket_item [CATEGORICAL]\n",
      "\t1 : Ticket_number [CATEGORICAL]\n",
      "\n",
      "Attribute in nodes with depth <= 2:\n",
      "\t38 : Fare [NUMERICAL]\n",
      "\t23 : Sex [NUMERICAL]\n",
      "\t22 : Ticket_item [CATEGORICAL]\n",
      "\t22 : Age [NUMERICAL]\n",
      "\t20 : Pclass [NUMERICAL]\n",
      "\t12 : Ticket_number [CATEGORICAL]\n",
      "\t12 : SibSp [NUMERICAL]\n",
      "\t7 : Embarked [CATEGORICAL]\n",
      "\n",
      "Attribute in nodes with depth <= 3:\n",
      "\t76 : Fare [NUMERICAL]\n",
      "\t69 : Age [NUMERICAL]\n",
      "\t42 : Ticket_item [CATEGORICAL]\n",
      "\t36 : Ticket_number [CATEGORICAL]\n",
      "\t27 : Pclass [NUMERICAL]\n",
      "\t23 : Sex [NUMERICAL]\n",
      "\t17 : Embarked [CATEGORICAL]\n",
      "\t15 : SibSp [NUMERICAL]\n",
      "\t8 : Parch [NUMERICAL]\n",
      "\n",
      "Attribute in nodes with depth <= 5:\n",
      "\t147 : Fare [NUMERICAL]\n",
      "\t135 : Age [NUMERICAL]\n",
      "\t71 : Ticket_item [CATEGORICAL]\n",
      "\t40 : Ticket_number [CATEGORICAL]\n",
      "\t36 : Pclass [NUMERICAL]\n",
      "\t27 : SibSp [NUMERICAL]\n",
      "\t23 : Sex [NUMERICAL]\n",
      "\t23 : Embarked [CATEGORICAL]\n",
      "\t15 : Parch [NUMERICAL]\n",
      "\n",
      "Condition type in nodes:\n",
      "\t383 : HigherCondition\n",
      "\t134 : ContainsBitmapCondition\n",
      "Condition type in nodes with depth <= 0:\n",
      "\t23 : HigherCondition\n",
      "Condition type in nodes with depth <= 1:\n",
      "\t64 : HigherCondition\n",
      "\t5 : ContainsBitmapCondition\n",
      "Condition type in nodes with depth <= 2:\n",
      "\t115 : HigherCondition\n",
      "\t41 : ContainsBitmapCondition\n",
      "Condition type in nodes with depth <= 3:\n",
      "\t218 : HigherCondition\n",
      "\t95 : ContainsBitmapCondition\n",
      "Condition type in nodes with depth <= 5:\n",
      "\t383 : HigherCondition\n",
      "\t134 : ContainsBitmapCondition\n",
      "\n",
      "Training logs:\n",
      "Number of iteration to final model: 23\n",
      "\tIter:1 train-loss:1.229137 valid-loss:1.224422  train-accuracy:0.614322 valid-accuracy:0.631579\n",
      "\tIter:2 train-loss:1.145538 valid-loss:1.150511  train-accuracy:0.763819 valid-accuracy:0.757895\n",
      "\tIter:3 train-loss:1.076295 valid-loss:1.095263  train-accuracy:0.822864 valid-accuracy:0.800000\n",
      "\tIter:4 train-loss:1.018504 valid-loss:1.038545  train-accuracy:0.839196 valid-accuracy:0.821053\n",
      "\tIter:5 train-loss:0.968518 valid-loss:0.992930  train-accuracy:0.842965 valid-accuracy:0.842105\n",
      "\tIter:6 train-loss:0.925933 valid-loss:0.956704  train-accuracy:0.850502 valid-accuracy:0.852632\n",
      "\tIter:16 train-loss:0.696283 valid-loss:0.780601  train-accuracy:0.873116 valid-accuracy:0.863158\n",
      "\tIter:26 train-loss:0.596660 valid-loss:0.757287  train-accuracy:0.889447 valid-accuracy:0.863158\n",
      "\tIter:36 train-loss:0.545073 valid-loss:0.775108  train-accuracy:0.909548 valid-accuracy:0.842105\n",
      "\tIter:46 train-loss:0.505566 valid-loss:0.786296  train-accuracy:0.918342 valid-accuracy:0.863158\n",
      "\n"
     ]
    }
   ],
   "execution_count": 33
  },
  {
   "metadata": {},
   "cell_type": "markdown",
   "source": "# Training a model with hyperparameter tunning ",
   "id": "bdcff84c4ca4f26e"
  },
  {
   "metadata": {
    "ExecuteTime": {
     "end_time": "2024-07-17T20:55:00.113250Z",
     "start_time": "2024-07-17T20:55:00.111942Z"
    }
   },
   "cell_type": "code",
   "source": [
    "# Create a tuner that will iterate 1000 time to find best hyperparameters\n",
    "tuner = tfdf.tuner.RandomSearch(num_trials=1000)\n"
   ],
   "id": "77d6394fb9c99117",
   "outputs": [],
   "execution_count": 34
  }
 ],
 "metadata": {
  "kernelspec": {
   "display_name": "Python 3",
   "language": "python",
   "name": "python3"
  },
  "language_info": {
   "codemirror_mode": {
    "name": "ipython",
    "version": 2
   },
   "file_extension": ".py",
   "mimetype": "text/x-python",
   "name": "python",
   "nbconvert_exporter": "python",
   "pygments_lexer": "ipython2",
   "version": "2.7.6"
  }
 },
 "nbformat": 4,
 "nbformat_minor": 5
}
